{
 "cells": [
  {
   "cell_type": "markdown",
   "id": "a3bc452f",
   "metadata": {},
   "source": [
    "Fine-tune the HerBERT model."
   ]
  },
  {
   "cell_type": "code",
   "execution_count": 1,
   "id": "268d428f",
   "metadata": {},
   "outputs": [],
   "source": [
    "from transformers import AutoTokenizer, BertForSequenceClassification\n",
    "from transformers import TrainingArguments, Trainer\n",
    "from datasets import load_dataset\n",
    "import torch\n",
    "import random\n",
    "import numpy as np\n",
    "import evaluate"
   ]
  },
  {
   "cell_type": "code",
   "execution_count": 2,
   "id": "6bb39705",
   "metadata": {},
   "outputs": [
    {
     "name": "stderr",
     "output_type": "stream",
     "text": [
      "Using custom data configuration default-3b89f3670fe5d35f\n",
      "Found cached dataset json (/home/i306412/.cache/huggingface/datasets/json/default-3b89f3670fe5d35f/0.0.0/e6070c77f18f01a5ad4551a8b7edfba20b8438b7cad4d94e6ad9378022ce4aab)\n"
     ]
    },
    {
     "data": {
      "application/vnd.jupyter.widget-view+json": {
       "model_id": "479787c602004b9f8bd2a25753f8ff62",
       "version_major": 2,
       "version_minor": 0
      },
      "text/plain": [
       "  0%|          | 0/2 [00:00<?, ?it/s]"
      ]
     },
     "metadata": {},
     "output_type": "display_data"
    }
   ],
   "source": [
    "dataset = load_dataset('json', data_files={ \n",
    "    'train' : 'dataset-train-10-morfeusz.jl',\n",
    "    'eval' : 'dataset-dev-10-morfeusz.jl'})"
   ]
  },
  {
   "cell_type": "code",
   "execution_count": 3,
   "id": "1ad0927d",
   "metadata": {},
   "outputs": [],
   "source": [
    "# dataset['train'] = dataset['train'].select(range(100))\n",
    "dataset['eval'] = dataset['eval'].select(range(200))"
   ]
  },
  {
   "cell_type": "code",
   "execution_count": 4,
   "id": "46a286f5",
   "metadata": {
    "scrolled": true
   },
   "outputs": [
    {
     "data": {
      "text/plain": [
       "DatasetDict({\n",
       "    train: Dataset({\n",
       "        features: ['question_id', 'question_text', 'passages_id', 'passage_text', 'label'],\n",
       "        num_rows: 44010\n",
       "    })\n",
       "    eval: Dataset({\n",
       "        features: ['question_id', 'question_text', 'passages_id', 'passage_text', 'label'],\n",
       "        num_rows: 200\n",
       "    })\n",
       "})"
      ]
     },
     "execution_count": 4,
     "metadata": {},
     "output_type": "execute_result"
    }
   ],
   "source": [
    "dataset"
   ]
  },
  {
   "cell_type": "code",
   "execution_count": 5,
   "id": "0c99c1f7",
   "metadata": {},
   "outputs": [],
   "source": [
    "tokenizer = AutoTokenizer.from_pretrained(\"allegro/herbert-base-cased\")"
   ]
  },
  {
   "cell_type": "code",
   "execution_count": 6,
   "id": "a3f4c737",
   "metadata": {},
   "outputs": [
    {
     "name": "stderr",
     "output_type": "stream",
     "text": [
      "Loading cached processed dataset at /home/i306412/.cache/huggingface/datasets/json/default-3b89f3670fe5d35f/0.0.0/e6070c77f18f01a5ad4551a8b7edfba20b8438b7cad4d94e6ad9378022ce4aab/cache-823d1cb18a0f4951.arrow\n",
      "Loading cached processed dataset at /home/i306412/.cache/huggingface/datasets/json/default-3b89f3670fe5d35f/0.0.0/e6070c77f18f01a5ad4551a8b7edfba20b8438b7cad4d94e6ad9378022ce4aab/cache-561f5ba535896b9d.arrow\n"
     ]
    }
   ],
   "source": [
    "def tokenize_function(row):\n",
    "    return tokenizer(text=row['question_text'], text_pair=row['passage_text'], padding='max_length')\n",
    "tokenized_dataset = dataset.map(tokenize_function, batched=True)"
   ]
  },
  {
   "cell_type": "code",
   "execution_count": 7,
   "id": "4c5d7215",
   "metadata": {},
   "outputs": [],
   "source": [
    "train_dataset = tokenized_dataset['train']\n",
    "eval_dataset = tokenized_dataset['eval']"
   ]
  },
  {
   "cell_type": "code",
   "execution_count": 8,
   "id": "7e52046c",
   "metadata": {},
   "outputs": [
    {
     "data": {
      "text/plain": [
       "Dataset({\n",
       "    features: ['question_id', 'question_text', 'passages_id', 'passage_text', 'label', 'input_ids', 'token_type_ids', 'attention_mask'],\n",
       "    num_rows: 44010\n",
       "})"
      ]
     },
     "execution_count": 8,
     "metadata": {},
     "output_type": "execute_result"
    }
   ],
   "source": [
    "train_dataset"
   ]
  },
  {
   "cell_type": "code",
   "execution_count": 9,
   "id": "8956a218",
   "metadata": {},
   "outputs": [
    {
     "data": {
      "text/plain": [
       "Dataset({\n",
       "    features: ['question_id', 'question_text', 'passages_id', 'passage_text', 'label', 'input_ids', 'token_type_ids', 'attention_mask'],\n",
       "    num_rows: 200\n",
       "})"
      ]
     },
     "execution_count": 9,
     "metadata": {},
     "output_type": "execute_result"
    }
   ],
   "source": [
    "eval_dataset"
   ]
  },
  {
   "cell_type": "code",
   "execution_count": 10,
   "id": "17577893",
   "metadata": {},
   "outputs": [],
   "source": [
    "device = \"cuda\" if torch.cuda.is_available() else \"cpu\""
   ]
  },
  {
   "cell_type": "code",
   "execution_count": 11,
   "id": "8bd3c4ab",
   "metadata": {},
   "outputs": [
    {
     "name": "stderr",
     "output_type": "stream",
     "text": [
      "Some weights of the model checkpoint at allegro/herbert-base-cased were not used when initializing BertForSequenceClassification: ['cls.predictions.bias', 'cls.sso.sso_relationship.bias', 'cls.predictions.transform.dense.weight', 'cls.sso.sso_relationship.weight', 'cls.predictions.transform.LayerNorm.weight', 'cls.predictions.transform.dense.bias', 'cls.predictions.transform.LayerNorm.bias', 'cls.predictions.decoder.bias', 'cls.predictions.decoder.weight']\n",
      "- This IS expected if you are initializing BertForSequenceClassification from the checkpoint of a model trained on another task or with another architecture (e.g. initializing a BertForSequenceClassification model from a BertForPreTraining model).\n",
      "- This IS NOT expected if you are initializing BertForSequenceClassification from the checkpoint of a model that you expect to be exactly identical (initializing a BertForSequenceClassification model from a BertForSequenceClassification model).\n",
      "Some weights of BertForSequenceClassification were not initialized from the model checkpoint at allegro/herbert-base-cased and are newly initialized: ['classifier.weight', 'classifier.bias']\n",
      "You should probably TRAIN this model on a down-stream task to be able to use it for predictions and inference.\n"
     ]
    }
   ],
   "source": [
    "model = BertForSequenceClassification.from_pretrained(\"allegro/herbert-base-cased\", num_labels=2) # 0 - irrelevant, 1 - relevant\n",
    "model = model.to(device)"
   ]
  },
  {
   "cell_type": "code",
   "execution_count": 12,
   "id": "ad9ab421",
   "metadata": {},
   "outputs": [],
   "source": [
    "metric = evaluate.load(\"accuracy\")\n",
    "def compute_metrics(eval_pred):\n",
    "    logits, labels = eval_pred\n",
    "    predictions = np.argmax(logits, axis=-1)\n",
    "    return metric.compute(predictions=predictions, references=labels)"
   ]
  },
  {
   "cell_type": "code",
   "execution_count": 13,
   "id": "07efd4fb",
   "metadata": {},
   "outputs": [
    {
     "name": "stderr",
     "output_type": "stream",
     "text": [
      "The following columns in the training set don't have a corresponding argument in `BertForSequenceClassification.forward` and have been ignored: question_id, question_text, passage_text, passages_id. If question_id, question_text, passage_text, passages_id are not expected by `BertForSequenceClassification.forward`,  you can safely ignore this message.\n",
      "/pio/scratch/1/i306412/venv/lib/python3.8/site-packages/transformers/optimization.py:306: FutureWarning: This implementation of AdamW is deprecated and will be removed in a future version. Use the PyTorch implementation torch.optim.AdamW instead, or set `no_deprecation_warning=True` to disable this warning\n",
      "  warnings.warn(\n",
      "***** Running training *****\n",
      "  Num examples = 44010\n",
      "  Num Epochs = 1\n",
      "  Instantaneous batch size per device = 8\n",
      "  Total train batch size (w. parallel, distributed & accumulation) = 16\n",
      "  Gradient Accumulation steps = 1\n",
      "  Total optimization steps = 2751\n",
      "  Number of trainable parameters = 124444418\n",
      "/pio/scratch/1/i306412/venv/lib/python3.8/site-packages/torch/nn/parallel/_functions.py:68: UserWarning: Was asked to gather along dimension 0, but all input tensors were scalars; will instead unsqueeze and return a vector.\n",
      "  warnings.warn('Was asked to gather along dimension 0, but all '\n"
     ]
    },
    {
     "data": {
      "text/html": [
       "\n",
       "    <div>\n",
       "      \n",
       "      <progress value='2751' max='2751' style='width:300px; height:20px; vertical-align: middle;'></progress>\n",
       "      [2751/2751 18:04, Epoch 1/1]\n",
       "    </div>\n",
       "    <table border=\"1\" class=\"dataframe\">\n",
       "  <thead>\n",
       " <tr style=\"text-align: left;\">\n",
       "      <th>Step</th>\n",
       "      <th>Training Loss</th>\n",
       "      <th>Validation Loss</th>\n",
       "      <th>Accuracy</th>\n",
       "    </tr>\n",
       "  </thead>\n",
       "  <tbody>\n",
       "    <tr>\n",
       "      <td>500</td>\n",
       "      <td>0.543600</td>\n",
       "      <td>0.498130</td>\n",
       "      <td>0.770000</td>\n",
       "    </tr>\n",
       "    <tr>\n",
       "      <td>1000</td>\n",
       "      <td>0.465600</td>\n",
       "      <td>0.434011</td>\n",
       "      <td>0.780000</td>\n",
       "    </tr>\n",
       "    <tr>\n",
       "      <td>1500</td>\n",
       "      <td>0.423300</td>\n",
       "      <td>0.391742</td>\n",
       "      <td>0.820000</td>\n",
       "    </tr>\n",
       "    <tr>\n",
       "      <td>2000</td>\n",
       "      <td>0.390100</td>\n",
       "      <td>0.361114</td>\n",
       "      <td>0.850000</td>\n",
       "    </tr>\n",
       "    <tr>\n",
       "      <td>2500</td>\n",
       "      <td>0.345200</td>\n",
       "      <td>0.332435</td>\n",
       "      <td>0.855000</td>\n",
       "    </tr>\n",
       "  </tbody>\n",
       "</table><p>"
      ],
      "text/plain": [
       "<IPython.core.display.HTML object>"
      ]
     },
     "metadata": {},
     "output_type": "display_data"
    },
    {
     "name": "stderr",
     "output_type": "stream",
     "text": [
      "The following columns in the evaluation set don't have a corresponding argument in `BertForSequenceClassification.forward` and have been ignored: question_id, question_text, passage_text, passages_id. If question_id, question_text, passage_text, passages_id are not expected by `BertForSequenceClassification.forward`,  you can safely ignore this message.\n",
      "***** Running Evaluation *****\n",
      "  Num examples = 200\n",
      "  Batch size = 16\n",
      "Saving model checkpoint to model/morfeusz-10-2epochs/checkpoint-500\n",
      "Configuration saved in model/morfeusz-10-2epochs/checkpoint-500/config.json\n",
      "Model weights saved in model/morfeusz-10-2epochs/checkpoint-500/pytorch_model.bin\n",
      "/pio/scratch/1/i306412/venv/lib/python3.8/site-packages/torch/nn/parallel/_functions.py:68: UserWarning: Was asked to gather along dimension 0, but all input tensors were scalars; will instead unsqueeze and return a vector.\n",
      "  warnings.warn('Was asked to gather along dimension 0, but all '\n",
      "The following columns in the evaluation set don't have a corresponding argument in `BertForSequenceClassification.forward` and have been ignored: question_id, question_text, passage_text, passages_id. If question_id, question_text, passage_text, passages_id are not expected by `BertForSequenceClassification.forward`,  you can safely ignore this message.\n",
      "***** Running Evaluation *****\n",
      "  Num examples = 200\n",
      "  Batch size = 16\n",
      "Saving model checkpoint to model/morfeusz-10-2epochs/checkpoint-1000\n",
      "Configuration saved in model/morfeusz-10-2epochs/checkpoint-1000/config.json\n",
      "Model weights saved in model/morfeusz-10-2epochs/checkpoint-1000/pytorch_model.bin\n",
      "Deleting older checkpoint [model/morfeusz-10-2epochs/checkpoint-500] due to args.save_total_limit\n",
      "/pio/scratch/1/i306412/venv/lib/python3.8/site-packages/torch/nn/parallel/_functions.py:68: UserWarning: Was asked to gather along dimension 0, but all input tensors were scalars; will instead unsqueeze and return a vector.\n",
      "  warnings.warn('Was asked to gather along dimension 0, but all '\n",
      "The following columns in the evaluation set don't have a corresponding argument in `BertForSequenceClassification.forward` and have been ignored: question_id, question_text, passage_text, passages_id. If question_id, question_text, passage_text, passages_id are not expected by `BertForSequenceClassification.forward`,  you can safely ignore this message.\n",
      "***** Running Evaluation *****\n",
      "  Num examples = 200\n",
      "  Batch size = 16\n",
      "Saving model checkpoint to model/morfeusz-10-2epochs/checkpoint-1500\n",
      "Configuration saved in model/morfeusz-10-2epochs/checkpoint-1500/config.json\n",
      "Model weights saved in model/morfeusz-10-2epochs/checkpoint-1500/pytorch_model.bin\n",
      "Deleting older checkpoint [model/morfeusz-10-2epochs/checkpoint-1000] due to args.save_total_limit\n",
      "/pio/scratch/1/i306412/venv/lib/python3.8/site-packages/torch/nn/parallel/_functions.py:68: UserWarning: Was asked to gather along dimension 0, but all input tensors were scalars; will instead unsqueeze and return a vector.\n",
      "  warnings.warn('Was asked to gather along dimension 0, but all '\n",
      "The following columns in the evaluation set don't have a corresponding argument in `BertForSequenceClassification.forward` and have been ignored: question_id, question_text, passage_text, passages_id. If question_id, question_text, passage_text, passages_id are not expected by `BertForSequenceClassification.forward`,  you can safely ignore this message.\n",
      "***** Running Evaluation *****\n",
      "  Num examples = 200\n",
      "  Batch size = 16\n",
      "Saving model checkpoint to model/morfeusz-10-2epochs/checkpoint-2000\n",
      "Configuration saved in model/morfeusz-10-2epochs/checkpoint-2000/config.json\n",
      "Model weights saved in model/morfeusz-10-2epochs/checkpoint-2000/pytorch_model.bin\n",
      "Deleting older checkpoint [model/morfeusz-10-2epochs/checkpoint-1500] due to args.save_total_limit\n",
      "/pio/scratch/1/i306412/venv/lib/python3.8/site-packages/torch/nn/parallel/_functions.py:68: UserWarning: Was asked to gather along dimension 0, but all input tensors were scalars; will instead unsqueeze and return a vector.\n",
      "  warnings.warn('Was asked to gather along dimension 0, but all '\n",
      "The following columns in the evaluation set don't have a corresponding argument in `BertForSequenceClassification.forward` and have been ignored: question_id, question_text, passage_text, passages_id. If question_id, question_text, passage_text, passages_id are not expected by `BertForSequenceClassification.forward`,  you can safely ignore this message.\n",
      "***** Running Evaluation *****\n",
      "  Num examples = 200\n",
      "  Batch size = 16\n",
      "Saving model checkpoint to model/morfeusz-10-2epochs/checkpoint-2500\n",
      "Configuration saved in model/morfeusz-10-2epochs/checkpoint-2500/config.json\n",
      "Model weights saved in model/morfeusz-10-2epochs/checkpoint-2500/pytorch_model.bin\n",
      "Deleting older checkpoint [model/morfeusz-10-2epochs/checkpoint-2000] due to args.save_total_limit\n",
      "/pio/scratch/1/i306412/venv/lib/python3.8/site-packages/torch/nn/parallel/_functions.py:68: UserWarning: Was asked to gather along dimension 0, but all input tensors were scalars; will instead unsqueeze and return a vector.\n",
      "  warnings.warn('Was asked to gather along dimension 0, but all '\n",
      "\n",
      "\n",
      "Training completed. Do not forget to share your model on huggingface.co/models =)\n",
      "\n",
      "\n",
      "Loading best model from model/morfeusz-10-2epochs/checkpoint-2500 (score: 0.33243536949157715).\n",
      "Saving model checkpoint to model/morfeusz-10-2epochs\n",
      "Configuration saved in model/morfeusz-10-2epochs/config.json\n",
      "Model weights saved in model/morfeusz-10-2epochs/pytorch_model.bin\n"
     ]
    }
   ],
   "source": [
    "training_args = TrainingArguments(\n",
    "    output_dir=\"model/morfeusz-10-1epochs\",\n",
    "    num_train_epochs=1,\n",
    "    logging_strategy=\"steps\",\n",
    "    logging_steps=500,\n",
    "    evaluation_strategy=\"steps\",\n",
    "    eval_steps=500,\n",
    "    save_steps=500,\n",
    "    save_total_limit=1,\n",
    "    load_best_model_at_end=True,\n",
    ")\n",
    "\n",
    "trainer = Trainer(\n",
    "    model=model,\n",
    "    args=training_args,\n",
    "    train_dataset=train_dataset,\n",
    "    eval_dataset=eval_dataset,\n",
    "    compute_metrics=compute_metrics,\n",
    ")\n",
    "trainer.train()\n",
    "trainer.save_model()"
   ]
  },
  {
   "cell_type": "code",
   "execution_count": null,
   "id": "b27261d3",
   "metadata": {},
   "outputs": [],
   "source": [
    "trainer.save_model()"
   ]
  }
 ],
 "metadata": {
  "kernelspec": {
   "display_name": "Python 3 (ipykernel)",
   "language": "python",
   "name": "python3"
  },
  "language_info": {
   "codemirror_mode": {
    "name": "ipython",
    "version": 3
   },
   "file_extension": ".py",
   "mimetype": "text/x-python",
   "name": "python",
   "nbconvert_exporter": "python",
   "pygments_lexer": "ipython3",
   "version": "3.10.6"
  }
 },
 "nbformat": 4,
 "nbformat_minor": 5
}
