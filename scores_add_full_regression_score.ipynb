{
 "cells": [
  {
   "cell_type": "markdown",
   "id": "c831c4ff",
   "metadata": {},
   "source": [
    "Add logistic regression score from all features."
   ]
  },
  {
   "cell_type": "code",
   "execution_count": 15,
   "id": "70e1d60f",
   "metadata": {},
   "outputs": [],
   "source": [
    "import json\n",
    "from sklearn.linear_model import LogisticRegression"
   ]
  },
  {
   "cell_type": "code",
   "execution_count": 16,
   "id": "bcc789f3",
   "metadata": {},
   "outputs": [],
   "source": [
    "path_train = 'test-B-big/dev.jl'"
   ]
  },
  {
   "cell_type": "code",
   "execution_count": 17,
   "id": "a825cead",
   "metadata": {},
   "outputs": [],
   "source": [
    "def read_rows(path):\n",
    "    rows = []\n",
    "    for line in open(path):\n",
    "        rows.append(json.loads(line))\n",
    "    return rows\n",
    "\n",
    "def write_json_format(path_out, rows):\n",
    "    f_out = open(path_out, 'w')\n",
    "    for row in rows:\n",
    "        f_out.write(json.dumps(row, ensure_ascii=False)+'\\n')\n",
    "\n",
    "rows_train = read_rows(path_train)"
   ]
  },
  {
   "cell_type": "code",
   "execution_count": 18,
   "id": "895cc48b",
   "metadata": {},
   "outputs": [],
   "source": [
    "X_train = [[\n",
    "    row['score_bm25'], \n",
    "    row['score_bm25_not_lemmatized'], \n",
    "    row['score_bm25_bigrams'], \n",
    "    row['score_miniLM'],\n",
    "    row['score_miniLM_with_gpt3'],\n",
    "    row['score_miniLM_with_chatgpt'],\n",
    "    row['score_miniLM_gpt3_answer'],\n",
    "    row['score_miniLM_chatgpt_answer'],\n",
    "] for row in rows_train]\n",
    "y_train = [row['label'] for row in rows_train]"
   ]
  },
  {
   "cell_type": "code",
   "execution_count": 19,
   "id": "54c2736d",
   "metadata": {},
   "outputs": [],
   "source": [
    "model = LogisticRegression().fit(X_train, y_train)"
   ]
  },
  {
   "cell_type": "code",
   "execution_count": 20,
   "id": "aa4d052e",
   "metadata": {},
   "outputs": [],
   "source": [
    "paths_test = ['test-B-big/wiki.jl', 'test-B-big/legal.jl', 'test-B-big/allegro.jl']"
   ]
  },
  {
   "cell_type": "code",
   "execution_count": 21,
   "id": "1aae3112",
   "metadata": {},
   "outputs": [],
   "source": [
    "for path_test in paths_test:\n",
    "    rows_test = read_rows(path_test)\n",
    "    X_test = [[\n",
    "        row['score_bm25'], \n",
    "        row['score_bm25_not_lemmatized'], \n",
    "        row['score_bm25_bigrams'], \n",
    "        row['score_miniLM'],\n",
    "        row['score_miniLM_with_gpt3'],\n",
    "        row['score_miniLM_with_chatgpt'],\n",
    "        row['score_miniLM_gpt3_answer'],\n",
    "        row['score_miniLM_chatgpt_answer'],\n",
    "    ] for row in rows_test]\n",
    "    probs = model.predict_proba(X_test)\n",
    "    for row, prob in zip(rows_test, probs):\n",
    "        row['log_reg_full_with_chatgpt'] = prob[1]\n",
    "    write_json_format(path_test, rows_test)"
   ]
  }
 ],
 "metadata": {
  "kernelspec": {
   "display_name": "Python 3 (ipykernel)",
   "language": "python",
   "name": "python3"
  },
  "language_info": {
   "codemirror_mode": {
    "name": "ipython",
    "version": 3
   },
   "file_extension": ".py",
   "mimetype": "text/x-python",
   "name": "python",
   "nbconvert_exporter": "python",
   "pygments_lexer": "ipython3",
   "version": "3.10.6"
  }
 },
 "nbformat": 4,
 "nbformat_minor": 5
}
