{
 "cells": [
  {
   "cell_type": "markdown",
   "id": "87d1911d",
   "metadata": {},
   "source": [
    "Rename a field in the dataset."
   ]
  },
  {
   "cell_type": "code",
   "execution_count": 6,
   "id": "b8749380",
   "metadata": {},
   "outputs": [],
   "source": [
    "import json\n",
    "def read_rows(path):\n",
    "    rows = []\n",
    "    for line in open(path):\n",
    "        rows.append(json.loads(line))\n",
    "    return rows\n",
    "\n",
    "def write_json_format(path_out, rows):\n",
    "    f_out = open(path_out, 'w')\n",
    "    for row in rows:\n",
    "        f_out.write(json.dumps(row, ensure_ascii=False)+'\\n')"
   ]
  },
  {
   "cell_type": "code",
   "execution_count": 7,
   "id": "8d2ff453",
   "metadata": {},
   "outputs": [],
   "source": [
    "path_dataset = 'test-B-big/dev.jl'\n",
    "old_name = 'score_miniLM_combined'\n",
    "new_name = 'score_miniLM_with_gpt3'"
   ]
  },
  {
   "cell_type": "code",
   "execution_count": 8,
   "id": "85f0ffd8",
   "metadata": {},
   "outputs": [],
   "source": [
    "rows = read_rows(path_dataset)"
   ]
  },
  {
   "cell_type": "code",
   "execution_count": 9,
   "id": "f9636602",
   "metadata": {},
   "outputs": [],
   "source": [
    "for row in rows:\n",
    "    row[new_name] = row[old_name]\n",
    "    del row[old_name]"
   ]
  },
  {
   "cell_type": "code",
   "execution_count": 10,
   "id": "b32f6ffe",
   "metadata": {},
   "outputs": [],
   "source": [
    "write_json_format(path_dataset, rows)"
   ]
  }
 ],
 "metadata": {
  "kernelspec": {
   "display_name": "Python 3 (ipykernel)",
   "language": "python",
   "name": "python3"
  },
  "language_info": {
   "codemirror_mode": {
    "name": "ipython",
    "version": 3
   },
   "file_extension": ".py",
   "mimetype": "text/x-python",
   "name": "python",
   "nbconvert_exporter": "python",
   "pygments_lexer": "ipython3",
   "version": "3.10.6"
  }
 },
 "nbformat": 4,
 "nbformat_minor": 5
}
