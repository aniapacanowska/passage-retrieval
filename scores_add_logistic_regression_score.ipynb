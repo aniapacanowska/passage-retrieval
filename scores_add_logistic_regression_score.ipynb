{
 "cells": [
  {
   "cell_type": "markdown",
   "id": "1deff8fd",
   "metadata": {},
   "source": [
    "Add the logistic regression score trained on the chosen combination of features."
   ]
  },
  {
   "cell_type": "code",
   "execution_count": 1,
   "id": "1462a259",
   "metadata": {},
   "outputs": [],
   "source": [
    "import json\n",
    "from sklearn.linear_model import LogisticRegression"
   ]
  },
  {
   "cell_type": "code",
   "execution_count": 3,
   "id": "33ac1d7c",
   "metadata": {},
   "outputs": [],
   "source": [
    "path_train = 'scores/train.jl'"
   ]
  },
  {
   "cell_type": "code",
   "execution_count": 4,
   "id": "ccf95cf9",
   "metadata": {},
   "outputs": [],
   "source": [
    "def read_rows(path):\n",
    "    rows = []\n",
    "    for line in open(path):\n",
    "        rows.append(json.loads(line))\n",
    "    return rows\n",
    "\n",
    "def write_json_format(path_out, rows):\n",
    "    f_out = open(path_out, 'w')\n",
    "    for row in rows:\n",
    "        f_out.write(json.dumps(row, ensure_ascii=False)+'\\n')\n",
    "\n",
    "rows_train = read_rows(path_train)"
   ]
  },
  {
   "cell_type": "code",
   "execution_count": 6,
   "id": "08fc37c9",
   "metadata": {},
   "outputs": [],
   "source": [
    "X_train = [[\n",
    "    row['score_bm25'], \n",
    "    row['score_bm25_not_lemmatized'], \n",
    "    row['score_bm25_bigrams'], \n",
    "    row['score_miniLM'],\n",
    "] for row in rows_train]\n",
    "y_train = [row['label'] for row in rows_train]"
   ]
  },
  {
   "cell_type": "code",
   "execution_count": 7,
   "id": "b93612a2",
   "metadata": {},
   "outputs": [],
   "source": [
    "model = LogisticRegression().fit(X_train, y_train)"
   ]
  },
  {
   "cell_type": "code",
   "execution_count": 41,
   "id": "f4a462cf",
   "metadata": {},
   "outputs": [],
   "source": [
    "path_test = 'scores/test-allegro.jl'\n",
    "rows_test = read_rows(path_test)"
   ]
  },
  {
   "cell_type": "code",
   "execution_count": 42,
   "id": "b325d1da",
   "metadata": {},
   "outputs": [],
   "source": [
    "X_test = [[\n",
    "    row['score_bm25'], \n",
    "    row['score_bm25_not_lemmatized'], \n",
    "    row['score_bm25_bigrams'], \n",
    "    row['score_miniLM'],\n",
    "] for row in rows_test]"
   ]
  },
  {
   "cell_type": "code",
   "execution_count": 43,
   "id": "63618643",
   "metadata": {},
   "outputs": [],
   "source": [
    "probs = model.predict_proba(X_test)"
   ]
  },
  {
   "cell_type": "code",
   "execution_count": 44,
   "id": "fb55c85c",
   "metadata": {},
   "outputs": [],
   "source": [
    "for row, prob in zip(rows_test, probs):\n",
    "    row['log_reg_score'] = prob[1]"
   ]
  },
  {
   "cell_type": "code",
   "execution_count": 45,
   "id": "c28ffe85",
   "metadata": {},
   "outputs": [
    {
     "data": {
      "text/plain": [
       "(39988, 39988)"
      ]
     },
     "execution_count": 45,
     "metadata": {},
     "output_type": "execute_result"
    }
   ],
   "source": [
    "len(rows_test), len(probs)"
   ]
  },
  {
   "cell_type": "code",
   "execution_count": 46,
   "id": "7e9e5453",
   "metadata": {},
   "outputs": [
    {
     "data": {
      "text/plain": [
       "[{'question_id': 0,\n",
       "  'question_text': 'Otrzymałem rekompensatę z POK, a później zwrot od Sprzedającego. Co mam zrobić?',\n",
       "  'passage_id': '511',\n",
       "  'passage_text': 'Jeśli wypłaciliśmy Ci rekompensatę w ramach Programu Ochrony Kupujących a Ty otrzymasz zwrot pieniędzy od Sprzedającego, masz obowiązek zwrócić nam rekompensatę.\\nZgodnie z punktem 6 Część IV Załącznika nr 9 do Regulaminu Allegro, na zwrot rekompensaty masz 7 dni od naprawienia szkody przez Sprzedającego.',\n",
       "  'score_bm25': 27.625212,\n",
       "  'score_bm25_not_lemmatized': 19.79850458073086,\n",
       "  'score_bm25_bigrams': 5.10528997024767,\n",
       "  'passage_translated': \"If we have paid you compensation under the Buyer Protection Programme and you receive a refund from the Seller, you are obliged to pay us compensation. According to Section 6 of Part IV of Annex No 9 to the Allegro Regulations, you have 7 days from the Seller's compensation.\",\n",
       "  'question_translated': 'I received compensation from the POK and then a refund from the Seller. What should I do?.',\n",
       "  'score_miniLM': 4.481489181518555,\n",
       "  'log_reg_score': 0.08826616086932706},\n",
       " {'question_id': 0,\n",
       "  'question_text': 'Otrzymałem rekompensatę z POK, a później zwrot od Sprzedającego. Co mam zrobić?',\n",
       "  'passage_id': '215',\n",
       "  'passage_text': 'Nie skorzystasz z POK, jeśli\\n* sprzedaż odbyła poza Allegro (na przykład, jeśli kupisz przedmiot pomimo przegranej licytacji),\\n* nie przestrzegasz zasad Allegro i / lub masz nieopłacone należności wobec serwisu,\\n* otrzymasz inne środki, które rekompensują stratę związaną z przedmiotem objętym POK (na przykład zwrot pieniędzy od Sprzedającego lub rekompensatę z ubezpieczenia karty kredytowej),\\n* Sprzedający otrzymał od Ciebie zapłatę gotówką przy odbiorze osobistym przedmiotu,\\n* przedmiot uległ zniszczeniu lub został zagubiony podczas transportu z winy przewoźnika.',\n",
       "  'score_bm25': 25.387741,\n",
       "  'score_bm25_not_lemmatized': 18.252230204576183,\n",
       "  'score_bm25_bigrams': 13.611035406128735,\n",
       "  'passage_translated': 'You will not use the POK if * sales have taken place outside Allegro (for example, if you buy an item despite losing the auction), * you do not follow the rules of Allegro and / or you have unpaid charges against the service, * you will receive other funds that compensate for the loss associated with the object covered by the POK (for example, refund of money from the Seller or compensation from credit card insurance), * The Seller received cash from you when receiving the personal item, * object was destroyed or lost during transport due to the fault of the carrier.',\n",
       "  'question_translated': 'I received compensation from the POK and then a refund from the Seller. What should I do?.',\n",
       "  'score_miniLM': 4.3188581466674805,\n",
       "  'log_reg_score': 0.06864256882634975},\n",
       " {'question_id': 0,\n",
       "  'question_text': 'Otrzymałem rekompensatę z POK, a później zwrot od Sprzedającego. Co mam zrobić?',\n",
       "  'passage_id': '566',\n",
       "  'passage_text': 'Sprzedający powinien zwrócić Ci środki w ciągu 14 dni od otrzymania Twojego oświadczenia o odstąpieniu od umowy, jednak może się wstrzymać do czasu, aż otrzyma zwracany przedmiot.\\nJeśli odeślesz przedmiot a Sprzedający nie zwróci środków, rozpocznij Dyskusję, w której ma 24 godziny na odniesienie się do Twojego zgłoszenia. Jeśli tego nie zrobi, włączymy się do Dyskusji.\\nJeśli Dyskusja nie przyniesie skutku, skorzystaj z Programu ochrony Kupujących, w którym możesz odzyskać koszty całej transakcji.',\n",
       "  'score_bm25': 16.085209,\n",
       "  'score_bm25_not_lemmatized': 3.9430631126933786,\n",
       "  'score_bm25_bigrams': 0,\n",
       "  'passage_translated': 'The Seller should return the funds to you within 14 days of receiving your withdrawal notice, but may abstain until the item is returned. If you send the item back and the Seller fails to refund the funds, start a discussion in which he has 24 hours to refer to your application. If he does not, we will join the Discussion. If the Discussion does not work, use the Buyer Protection Program, where you can recover the costs of the entire transaction.',\n",
       "  'question_translated': 'I received compensation from the POK and then a refund from the Seller. What should I do?.',\n",
       "  'score_miniLM': 1.2353588342666626,\n",
       "  'log_reg_score': 0.019179005880944355},\n",
       " {'question_id': 0,\n",
       "  'question_text': 'Otrzymałem rekompensatę z POK, a później zwrot od Sprzedającego. Co mam zrobić?',\n",
       "  'passage_id': '418',\n",
       "  'passage_text': 'Sprzedający nie ma obowiązku przyjęcia zwrotu w ramach odstąpienia od umowy w następujących sytuacjach\\n* jest osobą prywatną, czyli nieprowadzącą działalności gospodarczej lub zawodowej (przyjęcie zwrotu zależy wtedy tylko od jego dobrej woli),\\n* otrzymał oświadczenie o zwrocie po upływie 14 dni od daty dostarczenia przedmiotu do Kupującego,\\n* zakup Kupującego był związany z prowadzoną przez niego działalnością gospodarczą,\\n* Sprzedający wykonał w pełni usługę za wyraźną zgodą konsumenta, który został poinformowany przed rozpoczęciem świadczenia, że po jego spełnieniu utraci prawo odstąpienia od umowy.',\n",
       "  'score_bm25': 15.984643,\n",
       "  'score_bm25_not_lemmatized': 2.707179383105192,\n",
       "  'score_bm25_bigrams': 0,\n",
       "  'passage_translated': 'The seller is not obliged to accept a refund as a withdrawal from the contract in the following situations * is a private person, i.e. a non-business or professional person (then the return depends only on his goodwill), * received a return statement 14 days after the date of delivery of the item to the Buyer, * purchase of the Buyer was related to his business activity, * the Seller performed the full service with the express consent of the consumer, who was informed before the beginning of the service, that after its fulfilment he would lose the right to withdraw from the contract.',\n",
       "  'question_translated': 'I received compensation from the POK and then a refund from the Seller. What should I do?.',\n",
       "  'score_miniLM': 1.2962099313735962,\n",
       "  'log_reg_score': 0.018371416634438812},\n",
       " {'question_id': 0,\n",
       "  'question_text': 'Otrzymałem rekompensatę z POK, a później zwrot od Sprzedającego. Co mam zrobić?',\n",
       "  'passage_id': '860',\n",
       "  'passage_text': 'Jeśli wypłacimy Twojemu Klientowi rekompensatę w ramach POK, musisz zwrócić tę kwotę na nasz rachunek bankowy.\\nZgodnie z pkt 3 Część IV Załącznika nr 9 Regulaminu Allegro, Kupujący przenosi na Allegro.pl sp. z o.o. swoje roszczenie względem Sprzedającego.',\n",
       "  'score_bm25': 15.299363,\n",
       "  'score_bm25_not_lemmatized': 14.888183746672684,\n",
       "  'score_bm25_bigrams': 0,\n",
       "  'passage_translated': 'If we pay your Customer compensation under the POK, you must refund this amount to our bank account. In accordance with point 3 of Part IV of Annex No 9 of the Allegro Regulations, the Buyer transfers your claim to Allegro.pl sp. z o.o. to the Seller.',\n",
       "  'question_translated': 'I received compensation from the POK and then a refund from the Seller. What should I do?.',\n",
       "  'score_miniLM': 5.243844032287598,\n",
       "  'log_reg_score': 0.09344847634518559},\n",
       " {'question_id': 0,\n",
       "  'question_text': 'Otrzymałem rekompensatę z POK, a później zwrot od Sprzedającego. Co mam zrobić?',\n",
       "  'passage_id': '295',\n",
       "  'passage_text': '1. Wypełnij formularz on-line\\nW terminie 14 - 180 dni (czyli do 6 miesięcy) od dnia zakupu wypełnij formularz i dołącz wymagane załączniki.\\n* Jeśli Twoje zgłoszenie dotyczy towaru niezgodnego z opisem, złóż wcześniej zawiadomienie o popełnieniu przestępstwa (pobierz wzór), a potwierdzenie zawiadomienia dołącz do wniosku o wypłatę rekompensaty.\\n* Jeśli zgłoszenie dotyczy przedmiotu, który do Ciebie nie dotarł, możesz złożyć zawiadomienie samodzielnie lub poprosić nas, abyśmy to zrobili. Pamiętaj, że jeśli to my zgłosimy sprawę, Policja wciąż może Cię wezwać w celu złożenia wyjaśnień.\\n2. Rozpatrzymy Twój wniosek\\nDecyzję o rozpatrzeniu wniosku przekażemy Ci jak najszybciej (w ciągu kilku dni). Decyzję otrzymasz najpóźniej w ciągu 30 dni roboczych od złożenia wniosku. Może się zdarzyć, że poprosimy Cię o przesłanie brakujących załączników.\\n3. Wypłacimy Ci rekompensatę\\nRekompensatę wypłacimy na wskazany przez Ciebie rachunek w ciągu 7 dni roboczych od chwili, gdy pozytywnie zweryfikujemy komplet przesłanych przez Ciebie dokumentów.',\n",
       "  'score_bm25': 15.092003,\n",
       "  'score_bm25_not_lemmatized': 6.945853228134299,\n",
       "  'score_bm25_bigrams': 0,\n",
       "  'passage_translated': '1. Fill in the online form Within 14 - 180 days (i.e. up to 6 months) from the date of purchase, fill in the form and attach the required attachments. * If your application concerns goods that do not comply with the description, submit a prior notification of the offence (download the pattern) and confirm the notification join the claim for compensation. * If the application concerns an object that has not arrived at you, you can submit a notification yourself or ask us to do so. Remember that if we report the case, the police may still call you to make an explanation. 2. We will consider your request We will forward your request to you as soon as possible (within a few days). You will receive the decision within 30 working days of your application. It may happen that we will ask you to send the missing annexes. 3. We will pay you compensation Compensation will be paid to your indicated account within 7 working days from the time we positively verify the set of documents sent by you.',\n",
       "  'question_translated': 'I received compensation from the POK and then a refund from the Seller. What should I do?.',\n",
       "  'score_miniLM': -2.3893561363220215,\n",
       "  'log_reg_score': 0.008145727144456336},\n",
       " {'question_id': 0,\n",
       "  'question_text': 'Otrzymałem rekompensatę z POK, a później zwrot od Sprzedającego. Co mam zrobić?',\n",
       "  'passage_id': '505',\n",
       "  'passage_text': 'W Programie Ochrony Kupujących (POK) możesz otrzymać do 10 000 zł zwrotu za nieudane zakupy w Allegro. W tym celu wypełnij wniosek on-line.\\nMożesz otrzymać zwrot do 100% ceny przedmiotu jeśli:\\n* nie otrzymasz opłaconego przedmiotu,\\n* otrzymany przedmiot będzie niezgodny z opisem oferty.\\nW przypadku zapłaty za pomocą Allegro Finanse, otrzymasz dodatkowo zwrot kosztu wysyłki - nawet do 100 zł.',\n",
       "  'score_bm25': 14.756371,\n",
       "  'score_bm25_not_lemmatized': 10.15813849865969,\n",
       "  'score_bm25_bigrams': 0,\n",
       "  'passage_translated': 'In the Buyer Protection Program (POK) you can receive up to PLN 10,000 refund for failed purchases in Allegro. For this purpose, fill in an online application. You can receive a refund of up to 100% of the price of the item if: * you do not receive the paid item, * the item obtained will be inconsistent with the description of the offer. If you pay with Allegro Finance, you will receive an additional refund of the shipping cost - up to PLN 100.',\n",
       "  'question_translated': 'I received compensation from the POK and then a refund from the Seller. What should I do?.',\n",
       "  'score_miniLM': 2.668023109436035,\n",
       "  'log_reg_score': 0.03816515353128605},\n",
       " {'question_id': 0,\n",
       "  'question_text': 'Otrzymałem rekompensatę z POK, a później zwrot od Sprzedającego. Co mam zrobić?',\n",
       "  'passage_id': '15',\n",
       "  'passage_text': 'Jeżeli odstąpisz od umowy kupna przedmiotu, otrzymasz od sprzedającego zwrot wartości transakcji zawartej z tym sprzedającym. Jeżeli zechcesz zrezygnować z ubezpieczenia, skontaktuj się w tej sprawie z PZU - 801 402 204 (specjalna infolinia dla Klientów Allegro, czynna w dni powszednie, w godzinach 8:00 - 18:00).',\n",
       "  'score_bm25': 14.545568,\n",
       "  'score_bm25_not_lemmatized': 9.468278968427793,\n",
       "  'score_bm25_bigrams': 5.10528997024767,\n",
       "  'passage_translated': 'If you withdraw from the purchase contract, you will receive a refund of the value of the transaction concluded with the seller. If you wish to cancel the insurance, please contact PZU - 801 402 204 (special helpline for Allegro clients, open on weekdays, from 8:00 to 18:00).',\n",
       "  'question_translated': 'I received compensation from the POK and then a refund from the Seller. What should I do?.',\n",
       "  'score_miniLM': -1.1718692779541016,\n",
       "  'log_reg_score': 0.01180496396547055},\n",
       " {'question_id': 0,\n",
       "  'question_text': 'Otrzymałem rekompensatę z POK, a później zwrot od Sprzedającego. Co mam zrobić?',\n",
       "  'passage_id': '720',\n",
       "  'passage_text': 'Na Twój e-mail z ustawień konta Allegro otrzymasz powiadomienie z informacją o wysokości potrzebnej dopłaty, danymi transakcji oraz linkiem do formularza. Sprzedający może dołączyć do tej wiadomości wyjaśnienia. Jeśli tego nie zrobi, a nie wiesz, dlaczego masz dopłacić, skontaktuj się ze Sprzedającym.',\n",
       "  'score_bm25': 14.468734,\n",
       "  'score_bm25_not_lemmatized': 3.069284582941706,\n",
       "  'score_bm25_bigrams': 0,\n",
       "  'passage_translated': 'On your e-mail from the settings of the Allegro account you will receive a notification with information about the amount of the surcharge, transaction data and a link to the form. The seller may attach an explanation to this message. If he does not do so and you do not know why you should pay, please contact the Seller.',\n",
       "  'question_translated': 'I received compensation from the POK and then a refund from the Seller. What should I do?.',\n",
       "  'score_miniLM': -4.748055458068848,\n",
       "  'log_reg_score': 0.0034916590670081922},\n",
       " {'question_id': 0,\n",
       "  'question_text': 'Otrzymałem rekompensatę z POK, a później zwrot od Sprzedającego. Co mam zrobić?',\n",
       "  'passage_id': '106',\n",
       "  'passage_text': 'Jeśli w swojej ofercie udostępnisz opcję taniej dostawy Allegro InPost, Kupujący skorzysta z opcji darmowego zwrotu (pod warunkiem, że w danych konta Allegro masz wpisany polski adres). Jeśli sprzedajesz z konta zwykłego, nie masz obowiązku przyjęcia zwrotu przedmiotu w ramach odstąpienia od umowy. Obowiązek ten mają sprzedający z kont firmowych.',\n",
       "  'score_bm25': 13.707512,\n",
       "  'score_bm25_not_lemmatized': 2.434226883259095,\n",
       "  'score_bm25_bigrams': 0,\n",
       "  'passage_translated': 'If you offer a cheap delivery option for Allegro InPost, the Buyer will benefit from the free refund option (as long as you have a Polish address entered in your Allegro account details). If you sell from an ordinary account, you are not obliged to accept a return of the item as part of your withdrawal from the contract.',\n",
       "  'question_translated': 'I received compensation from the POK and then a refund from the Seller. What should I do?.',\n",
       "  'score_miniLM': -4.376321792602539,\n",
       "  'log_reg_score': 0.0037546473631293346}]"
      ]
     },
     "execution_count": 46,
     "metadata": {},
     "output_type": "execute_result"
    }
   ],
   "source": [
    "rows_test[:10]"
   ]
  },
  {
   "cell_type": "code",
   "execution_count": 47,
   "id": "7af6ae9f",
   "metadata": {},
   "outputs": [],
   "source": [
    "write_json_format(path_test, rows_test)"
   ]
  }
 ],
 "metadata": {
  "kernelspec": {
   "display_name": "Python 3 (ipykernel)",
   "language": "python",
   "name": "python3"
  },
  "language_info": {
   "codemirror_mode": {
    "name": "ipython",
    "version": 3
   },
   "file_extension": ".py",
   "mimetype": "text/x-python",
   "name": "python",
   "nbconvert_exporter": "python",
   "pygments_lexer": "ipython3",
   "version": "3.10.6"
  }
 },
 "nbformat": 4,
 "nbformat_minor": 5
}
