{
 "cells": [
  {
   "cell_type": "markdown",
   "id": "0a9281b1",
   "metadata": {},
   "source": [
    "Rank the passages using chosen score."
   ]
  },
  {
   "cell_type": "code",
   "execution_count": 13,
   "id": "1d26c06d",
   "metadata": {},
   "outputs": [],
   "source": [
    "import json\n",
    "def read_rows(path):\n",
    "    rows = []\n",
    "    for line in open(path):\n",
    "        rows.append(json.loads(line))\n",
    "    return rows"
   ]
  },
  {
   "cell_type": "code",
   "execution_count": 14,
   "id": "93baa176",
   "metadata": {},
   "outputs": [],
   "source": [
    "paths_dataset = ['test-B-big/wiki.jl', 'test-B-big/legal.jl', 'test-B-big/allegro.jl']\n",
    "base_path = 'test-B-big/out/full_with_chatgpt/'\n",
    "paths_out = [base_path+'wiki.tsv', base_path+'legal.tsv', base_path+'allegro.tsv']"
   ]
  },
  {
   "cell_type": "code",
   "execution_count": 15,
   "id": "88587f44",
   "metadata": {},
   "outputs": [],
   "source": [
    "score_by = 'log_reg_full_with_chatgpt'"
   ]
  },
  {
   "cell_type": "code",
   "execution_count": 16,
   "id": "02091e36",
   "metadata": {},
   "outputs": [],
   "source": [
    "def get_best_passages(scores, k=10):\n",
    "    best_passages = []\n",
    "    for score, passage_id in sorted(scores):\n",
    "        if passage_id not in best_passages:\n",
    "            best_passages.append(passage_id)\n",
    "        if len(best_passages) == k:\n",
    "            break\n",
    "    return best_passages"
   ]
  },
  {
   "cell_type": "code",
   "execution_count": 17,
   "id": "e769f97c",
   "metadata": {},
   "outputs": [],
   "source": [
    "for path_dataset, path_out in zip(paths_dataset, paths_out):\n",
    "    rows = read_rows(path_dataset)\n",
    "    question_id = rows[0]['question_id']\n",
    "    output_ids = []\n",
    "    scores = []\n",
    "    for row in rows:\n",
    "        if row['question_id'] != question_id:\n",
    "            output_ids.append(get_best_passages(scores))\n",
    "            scores = []\n",
    "            question_id = row['question_id']\n",
    "        scores.append((-row[score_by], row['passage_id']))\n",
    "    output_ids.append(get_best_passages(scores))\n",
    "    \n",
    "    f_out = open(path_out, 'w')\n",
    "    for passage_ids in output_ids:\n",
    "        f_out.write('\\t'.join(passage_ids)+'\\n')\n",
    "    f_out.close()"
   ]
  },
  {
   "cell_type": "code",
   "execution_count": 18,
   "id": "222576ef",
   "metadata": {},
   "outputs": [],
   "source": [
    "import math\n",
    "def score_passages(predicted_path, expected_path):\n",
    "    score = 0\n",
    "    for predicted_line, expected_line in zip(open(predicted_path).read().split('\\n')[:-1], open(expected_path).read().split('\\n')[:-1]):\n",
    "        predicted_ids = predicted_line.split()\n",
    "        expected_ids = expected_line.split()\n",
    "\n",
    "        dcg = 0\n",
    "        for i, id in enumerate(predicted_ids):\n",
    "            if id in expected_ids:\n",
    "                dcg += 1/math.log2(i+2)\n",
    "        idcg = sum([1/math.log2(i+2) for i in range(len(expected_ids))])\n",
    "\n",
    "        score += dcg/idcg\n",
    "    return 100*score/(len(open(predicted_path).read().split('\\n'))-1)"
   ]
  }
 ],
 "metadata": {
  "kernelspec": {
   "display_name": "Python 3 (ipykernel)",
   "language": "python",
   "name": "python3"
  },
  "language_info": {
   "codemirror_mode": {
    "name": "ipython",
    "version": 3
   },
   "file_extension": ".py",
   "mimetype": "text/x-python",
   "name": "python",
   "nbconvert_exporter": "python",
   "pygments_lexer": "ipython3",
   "version": "3.10.6"
  }
 },
 "nbformat": 4,
 "nbformat_minor": 5
}
