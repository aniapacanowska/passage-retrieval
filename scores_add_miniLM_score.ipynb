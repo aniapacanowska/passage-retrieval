{
 "cells": [
  {
   "cell_type": "markdown",
   "id": "a556afd4",
   "metadata": {},
   "source": [
    "Add miniLM score for (question, passage) pairs."
   ]
  },
  {
   "cell_type": "code",
   "execution_count": 29,
   "id": "bbf8703e",
   "metadata": {},
   "outputs": [],
   "source": [
    "import json\n",
    "from tqdm.auto import tqdm"
   ]
  },
  {
   "cell_type": "code",
   "execution_count": 30,
   "id": "ee3a5bb2",
   "metadata": {},
   "outputs": [],
   "source": [
    "def read_rows(path):\n",
    "    rows = []\n",
    "    for line in open(path):\n",
    "        rows.append(json.loads(line))\n",
    "    return rows\n",
    "\n",
    "def write_json_format(path_out, rows):\n",
    "    f_out = open(path_out, 'w')\n",
    "    for row in rows:\n",
    "        f_out.write(json.dumps(row, ensure_ascii=False)+'\\n')"
   ]
  },
  {
   "cell_type": "code",
   "execution_count": 31,
   "id": "09e9105b",
   "metadata": {},
   "outputs": [],
   "source": [
    "path_dataset = 'test-B-big/allegro.jl'\n",
    "path_model = 'cross-encoder/ms-marco-MiniLM-L-6-v2'"
   ]
  },
  {
   "cell_type": "code",
   "execution_count": 32,
   "id": "14418e4f",
   "metadata": {},
   "outputs": [],
   "source": [
    "rows = read_rows(path_dataset)"
   ]
  },
  {
   "cell_type": "code",
   "execution_count": 33,
   "id": "6c166e4c",
   "metadata": {},
   "outputs": [],
   "source": [
    "inputs = [(row['question_translated'], row['passage_translated']) for row in rows]"
   ]
  },
  {
   "cell_type": "code",
   "execution_count": 34,
   "id": "930a4f84",
   "metadata": {},
   "outputs": [],
   "source": [
    "from sentence_transformers import CrossEncoder\n",
    "model = CrossEncoder(path_model, max_length=512)"
   ]
  },
  {
   "cell_type": "code",
   "execution_count": 35,
   "id": "53f4e185",
   "metadata": {},
   "outputs": [],
   "source": [
    "scores = model.predict(inputs)"
   ]
  },
  {
   "cell_type": "code",
   "execution_count": 36,
   "id": "c8a1ca0d",
   "metadata": {},
   "outputs": [
    {
     "data": {
      "text/plain": [
       "array([  0.9330688,  -5.916269 ,  -7.3078804, ...,  -9.100338 ,\n",
       "       -11.066532 , -11.440943 ], dtype=float32)"
      ]
     },
     "execution_count": 36,
     "metadata": {},
     "output_type": "execute_result"
    }
   ],
   "source": [
    "scores"
   ]
  },
  {
   "cell_type": "code",
   "execution_count": 37,
   "id": "368cc353",
   "metadata": {},
   "outputs": [],
   "source": [
    "for row, score in zip(rows, scores):\n",
    "    row['score_miniLM'] = float(score)"
   ]
  },
  {
   "cell_type": "code",
   "execution_count": 38,
   "id": "bb041c03",
   "metadata": {},
   "outputs": [
    {
     "data": {
      "text/plain": [
       "326596"
      ]
     },
     "execution_count": 38,
     "metadata": {},
     "output_type": "execute_result"
    }
   ],
   "source": [
    "len(rows)"
   ]
  },
  {
   "cell_type": "code",
   "execution_count": 39,
   "id": "7bec39f2",
   "metadata": {},
   "outputs": [
    {
     "data": {
      "text/plain": [
       "326596"
      ]
     },
     "execution_count": 39,
     "metadata": {},
     "output_type": "execute_result"
    }
   ],
   "source": [
    "len(scores)"
   ]
  },
  {
   "cell_type": "code",
   "execution_count": 40,
   "id": "6b68d87f",
   "metadata": {},
   "outputs": [
    {
     "data": {
      "text/plain": [
       "[{'question_id': 499,\n",
       "  'question_text': 'Co mogę umieścić w dodatkowych informacjach o dostawie i płatności?',\n",
       "  'passage_id': '193',\n",
       "  'passage_text': 'Postaraj się, aby jakość Twoich ocen na koncie, które bierze udział w promocji nie spadła poniżej 98%. Jeśli jednak tak się stanie lub jeśli przestaniesz spełniać inne warunki promocji, Twoje konto zostanie z niej wykluczone z końcem opłaconego okresu.',\n",
       "  'score_bm25': 0.2670532,\n",
       "  'score_bm25_not_lemmatized': 0.27342082998151523,\n",
       "  'score_bm25_bigrams': 0,\n",
       "  'passage_translated': 'Try to ensure that the quality of your rating in your account that participates in the promotion does not fall below 98%. However, if this happens or if you stop fulfilling other promotional conditions, your account will be excluded from it at the end of the paid period.',\n",
       "  'question_translated': 'What can I put in the additional delivery and payment information?',\n",
       "  'distillbert_answer': 'promotional conditions',\n",
       "  'gpt3_answer': 'None.',\n",
       "  'chatgpt_answer': 'Additional information about delivery and payment can include details such as accepted payment methods, estimated delivery times, and any special instructions for the buyer.',\n",
       "  'score_miniLM': -11.372430801391602},\n",
       " {'question_id': 499,\n",
       "  'question_text': 'Co mogę umieścić w dodatkowych informacjach o dostawie i płatności?',\n",
       "  'passage_id': '798',\n",
       "  'passage_text': 'Propozycja pożyczki będzie dostępna, jeśli spełniasz poniższe kryteria:\\n* masz aktywne konto firmowe na jednoosobową działalność gospodarczą - założone nie później, niż 1 stycznia 2017,\\n* Twoja firma jest zarejestrowana w Polsce,\\n* roczne obroty firmy nie przekraczają 10 milionów złotych,\\n* masz aktualną umowę z Allegro,\\n* nie masz na koncie blokady sprzedaży.',\n",
       "  'score_bm25': 0.2670532,\n",
       "  'score_bm25_not_lemmatized': 0.2522968673202168,\n",
       "  'score_bm25_bigrams': 0,\n",
       "  'passage_translated': \"The loan offer will be available if you meet the following criteria: * you have an active business account for single-person business - founded no later than 1 January 2017, * Your company is registered in Poland, * the company's annual turnover does not exceed PLN 10 million, * you have a current contract with Allegro, * you do not have a sales blockade in your account.\",\n",
       "  'question_translated': 'What can I put in the additional delivery and payment information?',\n",
       "  'distillbert_answer': 'loan offer',\n",
       "  'gpt3_answer': 'None.',\n",
       "  'chatgpt_answer': 'Additional information about delivery and payment can include details such as accepted payment methods, estimated delivery times, and any special instructions for the buyer.',\n",
       "  'score_miniLM': -10.890695571899414},\n",
       " {'question_id': 499,\n",
       "  'question_text': 'Co mogę umieścić w dodatkowych informacjach o dostawie i płatności?',\n",
       "  'passage_id': '192',\n",
       "  'passage_text': 'Prowizję naliczamy za każdy przedmiot składający się na zestaw. Jeśli zestaw sprzedajesz z rabatem, to prowizja naliczana jest z uwzględnieniem cen każdego przedmiotu po obniżce.\\n> Przykład: Jeśli przedmiot, który standardowo sprzedajesz za 100 zł po uwzględnieniu rabatu w zestawie kosztuje 90 zł, to za ten przedmiot zapłacisz prowizję od kwoty 90 zł.',\n",
       "  'score_bm25': 0.2633694,\n",
       "  'score_bm25_not_lemmatized': 0.24392136026062206,\n",
       "  'score_bm25_bigrams': 0,\n",
       "  'passage_translated': 'The commission is charged for each item consisting of a set. If the set you sell with a discount, the commission is charged taking into account the prices of each item after a reduction. > Example: If the item that you normally sell for 100 PLN after taking into account the discount included in the set costs 90 PLN, then for this item you will pay a commission from the amount of 90 PLN.',\n",
       "  'question_translated': 'What can I put in the additional delivery and payment information?',\n",
       "  'distillbert_answer': 'prices',\n",
       "  'gpt3_answer': 'None.',\n",
       "  'chatgpt_answer': 'Additional information about delivery and payment can include details such as accepted payment methods, estimated delivery times, and any special instructions for the buyer.',\n",
       "  'score_miniLM': -11.09589958190918},\n",
       " {'question_id': 499,\n",
       "  'question_text': 'Co mogę umieścić w dodatkowych informacjach o dostawie i płatności?',\n",
       "  'passage_id': '194',\n",
       "  'passage_text': 'Cena minimalna, która występuje w niektórych licytacjach, to najniższa kwota, za jaką Sprzedający zgadza się sprzedać wystawiony przedmiot. Jeśli wśród ofert kupna nie pojawi się wyższa od ceny minimalnej, przedmiot nie zostanie sprzedany.\\nWysokość ceny minimalnej jest ukryta do momentu jej przekroczenia przez Kupujących.',\n",
       "  'score_bm25': 0.2633694,\n",
       "  'score_bm25_not_lemmatized': 0.2612680046365281,\n",
       "  'score_bm25_bigrams': 0,\n",
       "  'passage_translated': 'The minimum price that occurs in some auctions is the lowest amount for which the Seller agrees to sell the item issued. If the purchase offers do not appear above the minimum price, the item will not be sold. The minimum price is hidden until it is exceeded by the Buyers.',\n",
       "  'question_translated': 'What can I put in the additional delivery and payment information?',\n",
       "  'distillbert_answer': 'The minimum price is hidden until it is exceeded by the Buyers',\n",
       "  'gpt3_answer': 'None.',\n",
       "  'chatgpt_answer': 'Additional information about delivery and payment can include details such as accepted payment methods, estimated delivery times, and any special instructions for the buyer.',\n",
       "  'score_miniLM': -11.16743278503418},\n",
       " {'question_id': 499,\n",
       "  'question_text': 'Co mogę umieścić w dodatkowych informacjach o dostawie i płatności?',\n",
       "  'passage_id': '511',\n",
       "  'passage_text': 'Jeśli wypłaciliśmy Ci rekompensatę w ramach Programu Ochrony Kupujących a Ty otrzymasz zwrot pieniędzy od Sprzedającego, masz obowiązek zwrócić nam rekompensatę.\\nZgodnie z punktem 6 Część IV Załącznika nr 9 do Regulaminu Allegro, na zwrot rekompensaty masz 7 dni od naprawienia szkody przez Sprzedającego.',\n",
       "  'score_bm25': 0.2633694,\n",
       "  'score_bm25_not_lemmatized': 0.2612680046365281,\n",
       "  'score_bm25_bigrams': 0,\n",
       "  'passage_translated': \"If we have paid you compensation under the Buyer Protection Programme and you receive a refund from the Seller, you are obliged to pay us compensation. According to Section 6 of Part IV of Annex No 9 to the Allegro Regulations, you have 7 days from the Seller's compensation.\",\n",
       "  'question_translated': 'What can I put in the additional delivery and payment information?',\n",
       "  'distillbert_answer': 'a refund',\n",
       "  'gpt3_answer': 'None.',\n",
       "  'chatgpt_answer': 'Additional information about delivery and payment can include details such as accepted payment methods, estimated delivery times, and any special instructions for the buyer.',\n",
       "  'score_miniLM': -10.774381637573242},\n",
       " {'question_id': 499,\n",
       "  'question_text': 'Co mogę umieścić w dodatkowych informacjach o dostawie i płatności?',\n",
       "  'passage_id': '611',\n",
       "  'passage_text': 'Jeśli chcesz otrzymywać fakturę na dane swojej firmy, załóż konta Firma lub zmień status konta zwykłego na konto firmowe. Jeśli Twoja firma jest zarejestrowana w którymś z krajów Wspólnoty Europejskiej (poza Polską), aby otrzymać fakturę UE, prześlij nam:\\n* skany dokumentów, potrzebne do rejestracji konta Firma,\\n* potwierdzenie nadania numeru NIP UE.',\n",
       "  'score_bm25': 0.2633694,\n",
       "  'score_bm25_not_lemmatized': 0.24803843005229143,\n",
       "  'score_bm25_bigrams': 0,\n",
       "  'passage_translated': \"If you want to receive an invoice for your company's data, create your company's accounts or change your ordinary account status to your company account. If your company is registered in any of the European Community countries (except Poland) to receive an EU invoice, please send us: * scans of documents needed to register your company's account, * confirmation of granting an EU NIP number.\",\n",
       "  'question_translated': 'What can I put in the additional delivery and payment information?',\n",
       "  'distillbert_answer': 'an invoice',\n",
       "  'gpt3_answer': 'None.',\n",
       "  'chatgpt_answer': 'Additional information about delivery and payment can include details such as accepted payment methods, estimated delivery times, and any special instructions for the buyer.',\n",
       "  'score_miniLM': -10.938063621520996},\n",
       " {'question_id': 499,\n",
       "  'question_text': 'Co mogę umieścić w dodatkowych informacjach o dostawie i płatności?',\n",
       "  'passage_id': '864',\n",
       "  'passage_text': 'Tak. Jeśli saldo Twojego rachunku jest dodatnie, nadpłaconą kwotę przelejemy na Twój rachunek bankowy lub zwrócimy przekazem pocztowym. Saldo dodatnie powstaje na rachunku na przykład wtedy, gdy wpłacisz kwotę większą, niż wartość należności lub - po uregulowaniu rachunków - otrzymasz zwrot prowizji (rabat transakcyjny) w wyniku niezrealizowanej sprzedaży.',\n",
       "  'score_bm25': 0.2633694,\n",
       "  'score_bm25_not_lemmatized': 0.25670408043933274,\n",
       "  'score_bm25_bigrams': 0,\n",
       "  'passage_translated': 'Yes. If the balance of your account is positive, the overpaid amount will be transferred to your bank account or returned by post. The positive balance will arise in the account, for example, if you deposit more than the value of the claim or, after the account has been settled, you will receive a refund of commission (trade discount) as a result of an unrealized sale.',\n",
       "  'question_translated': 'What can I put in the additional delivery and payment information?',\n",
       "  'distillbert_answer': 'a refund of commission',\n",
       "  'gpt3_answer': 'None.',\n",
       "  'chatgpt_answer': 'Additional information about delivery and payment can include details such as accepted payment methods, estimated delivery times, and any special instructions for the buyer.',\n",
       "  'score_miniLM': -10.862506866455078},\n",
       " {'question_id': 499,\n",
       "  'question_text': 'Co mogę umieścić w dodatkowych informacjach o dostawie i płatności?',\n",
       "  'passage_id': '155',\n",
       "  'passage_text': 'Dane dotyczące zrealizowanych zamówień zbieramy z ostatnich pełnych 30 dni. Zamówienie uznajemy za zrealizowane, jeśli spełnisz jeden z poniższych warunków:\\n* otrzymasz ocenę Polecam;\\n* status przesyłki w systemie przewoźnika automatycznie zmieni się na \"wysłana\".\\nDane zbieramy do końca dnia poprzedzającego moment przeliczenia danych (podobnie jak pozostałe warunki programu Super Sprzedawca).',\n",
       "  'score_bm25': 0.24959737,\n",
       "  'score_bm25_not_lemmatized': 0.250149526550898,\n",
       "  'score_bm25_bigrams': 0,\n",
       "  'passage_translated': 'We collect the details of the completed orders from the last 30 days. We consider the order to be completed if you meet one of the following conditions: * you will receive the evaluation I recommend; * the status of the shipment in the carrier system will automatically change to \"sent.\" We collect the data by the end of the day preceding the moment of conversion (like the other conditions of the Super Seller program).',\n",
       "  'question_translated': 'What can I put in the additional delivery and payment information?',\n",
       "  'distillbert_answer': 'evaluation',\n",
       "  'gpt3_answer': 'None.',\n",
       "  'chatgpt_answer': 'Additional information about delivery and payment can include details such as accepted payment methods, estimated delivery times, and any special instructions for the buyer.',\n",
       "  'score_miniLM': -9.100337982177734},\n",
       " {'question_id': 499,\n",
       "  'question_text': 'Co mogę umieścić w dodatkowych informacjach o dostawie i płatności?',\n",
       "  'passage_id': '151',\n",
       "  'passage_text': 'RODO nie ma zastosowania do działalności osobistej lub domowej. Oznacza to, że osoba fizyczna prowadząca działalność gospodarczą musi stosować RODO do danych osobowych swoich klientów, czy pracowników, ale nie stosuje RODO do danych przetwarzanych w celach czysto prywatnych, np. do danych adresatów wysyłanych corocznie kartek świątecznych.',\n",
       "  'score_bm25': 0.24323767,\n",
       "  'score_bm25_not_lemmatized': 0.25670408043933274,\n",
       "  'score_bm25_bigrams': 0,\n",
       "  'passage_translated': 'GDPR does not apply to personal or domestic activities. This means that a natural person conducting business activities must apply GDPR to the personal data of his clients or employees, but does not apply GDPR to data processed for purely private purposes, e.g. to the data of recipients sent annually Christmas cards.',\n",
       "  'question_translated': 'What can I put in the additional delivery and payment information?',\n",
       "  'distillbert_answer': 'Christmas cards',\n",
       "  'gpt3_answer': 'None.',\n",
       "  'chatgpt_answer': 'Additional information about delivery and payment can include details such as accepted payment methods, estimated delivery times, and any special instructions for the buyer.',\n",
       "  'score_miniLM': -11.066532135009766},\n",
       " {'question_id': 499,\n",
       "  'question_text': 'Co mogę umieścić w dodatkowych informacjach o dostawie i płatności?',\n",
       "  'passage_id': '170',\n",
       "  'passage_text': 'Większość serwisów internetowych udostępnia możliwość logowania przez bezpieczne połączenie SSL. Strony, które spełniają taki warunek, otrzymują certyfikat bezpieczeństwa. Zawsze upewnij się, że dane, które wprowadzasz podczas logowania, będą bezpieczne - sprawdzaj, czy połączenie jest szyfrowane.\\nW każdej przeglądarce, obok paska adresu, znajdziesz prostokąt innego koloru oraz (najczęściej) kłódkę. Aby sprawdzić, czy strona jest bezpieczna, kliknij na prostokąt lub kłódkę.',\n",
       "  'score_bm25': 0.24323767,\n",
       "  'score_bm25_not_lemmatized': 0.23235130010676217,\n",
       "  'score_bm25_bigrams': 0,\n",
       "  'passage_translated': 'Most websites provide the possibility to log in via a secure SSL connection. Sites that meet this condition receive a security certificate. Always make sure that the data you enter when you log in will be safe - check whether the connection is encrypted. In each browser, next to the address bar, you will find a rectangle of a different color and (usually) lock. To check whether the page is safe, click on a rectangle or a padlock.',\n",
       "  'question_translated': 'What can I put in the additional delivery and payment information?',\n",
       "  'distillbert_answer': 'security certificate',\n",
       "  'gpt3_answer': 'None.',\n",
       "  'chatgpt_answer': 'Additional information about delivery and payment can include details such as accepted payment methods, estimated delivery times, and any special instructions for the buyer.',\n",
       "  'score_miniLM': -11.440942764282227}]"
      ]
     },
     "execution_count": 40,
     "metadata": {},
     "output_type": "execute_result"
    }
   ],
   "source": [
    "rows[-10:]"
   ]
  },
  {
   "cell_type": "code",
   "execution_count": 41,
   "id": "3a849e87",
   "metadata": {},
   "outputs": [
    {
     "data": {
      "text/plain": [
       "{'question_id': 2,\n",
       " 'question_text': 'Czym się różnią zakładki Sprzedane i Zamówienia?',\n",
       " 'passage_id': '741',\n",
       " 'passage_text': 'Tak, możesz posiadać kilka kont, o ile zarejestrujesz je na swoje poprawne i prawdziwe dane osobowe.',\n",
       " 'score_bm25': 0.93356365,\n",
       " 'score_bm25_not_lemmatized': 0.9523778504243336,\n",
       " 'score_bm25_bigrams': 0,\n",
       " 'passage_translated': 'Yes, you may have several accounts if you register them for your correct and true personal information.',\n",
       " 'question_translated': 'How do Sold Bookmarks and Orders differ?',\n",
       " 'distillbert_answer': 'if you register them for your correct and true personal information',\n",
       " 'gpt3_answer': 'Sold Bookmarks are items that have been purchased, while Orders are requests for items to be purchased.',\n",
       " 'chatgpt_answer': 'Sold tab shows items that have already been sold, while Orders tab shows items that have been purchased but not yet shipped.',\n",
       " 'score_miniLM': -11.117280960083008}"
      ]
     },
     "execution_count": 41,
     "metadata": {},
     "output_type": "execute_result"
    }
   ],
   "source": [
    "rows[2100]"
   ]
  },
  {
   "cell_type": "code",
   "execution_count": 42,
   "id": "36eff9ce",
   "metadata": {},
   "outputs": [],
   "source": [
    "write_json_format(path_dataset, rows)"
   ]
  }
 ],
 "metadata": {
  "kernelspec": {
   "display_name": "Python 3 (ipykernel)",
   "language": "python",
   "name": "python3"
  },
  "language_info": {
   "codemirror_mode": {
    "name": "ipython",
    "version": 3
   },
   "file_extension": ".py",
   "mimetype": "text/x-python",
   "name": "python",
   "nbconvert_exporter": "python",
   "pygments_lexer": "ipython3",
   "version": "3.10.6"
  }
 },
 "nbformat": 4,
 "nbformat_minor": 5
}
