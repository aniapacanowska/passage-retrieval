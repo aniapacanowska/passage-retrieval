{
 "cells": [
  {
   "cell_type": "markdown",
   "id": "dd33de15",
   "metadata": {},
   "source": [
    "Add labels to the train dataset."
   ]
  },
  {
   "cell_type": "code",
   "execution_count": 1,
   "id": "676c3ce5",
   "metadata": {},
   "outputs": [],
   "source": [
    "import json"
   ]
  },
  {
   "cell_type": "code",
   "execution_count": 2,
   "id": "90bc326e",
   "metadata": {},
   "outputs": [],
   "source": [
    "def read_rows(path):\n",
    "    rows = []\n",
    "    for line in open(path):\n",
    "        rows.append(json.loads(line))\n",
    "    return rows\n",
    "\n",
    "def write_json_format(path_out, rows):\n",
    "    f_out = open(path_out, 'w')\n",
    "    for row in rows:\n",
    "        f_out.write(json.dumps(row, ensure_ascii=False)+'\\n')"
   ]
  },
  {
   "cell_type": "code",
   "execution_count": 3,
   "id": "319de9c4",
   "metadata": {},
   "outputs": [],
   "source": [
    "path_dataset = 'scores_big/dev.jl'\n",
    "path_pairs = 'pairs-train.tsv'"
   ]
  },
  {
   "cell_type": "code",
   "execution_count": 4,
   "id": "78f0f58f",
   "metadata": {},
   "outputs": [],
   "source": [
    "rows = read_rows(path_dataset)"
   ]
  },
  {
   "cell_type": "code",
   "execution_count": 16,
   "id": "3e8b42c4",
   "metadata": {},
   "outputs": [],
   "source": [
    "pairs = set([(line.split()[0], line.split()[1]) for line in open(path_pairs)][1:])"
   ]
  },
  {
   "cell_type": "code",
   "execution_count": 17,
   "id": "c4f2464f",
   "metadata": {},
   "outputs": [],
   "source": [
    "for row in rows:\n",
    "    if (str(row['question_id']), row['passage_id']) in pairs:\n",
    "        row['label'] = 1\n",
    "    else:\n",
    "        row['label'] = 0"
   ]
  },
  {
   "cell_type": "code",
   "execution_count": 20,
   "id": "7c98c45d",
   "metadata": {},
   "outputs": [],
   "source": [
    "write_json_format(path_dataset, rows)"
   ]
  }
 ],
 "metadata": {
  "kernelspec": {
   "display_name": "Python 3 (ipykernel)",
   "language": "python",
   "name": "python3"
  },
  "language_info": {
   "codemirror_mode": {
    "name": "ipython",
    "version": 3
   },
   "file_extension": ".py",
   "mimetype": "text/x-python",
   "name": "python",
   "nbconvert_exporter": "python",
   "pygments_lexer": "ipython3",
   "version": "3.10.6"
  }
 },
 "nbformat": 4,
 "nbformat_minor": 5
}
