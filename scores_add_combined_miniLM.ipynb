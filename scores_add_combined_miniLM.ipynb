{
 "cells": [
  {
   "cell_type": "markdown",
   "id": "74c7fc58",
   "metadata": {},
   "source": [
    "Add miniLM score for (generated_answer question, extracted_answer passage)."
   ]
  },
  {
   "cell_type": "code",
   "execution_count": 68,
   "id": "c7c99534",
   "metadata": {},
   "outputs": [],
   "source": [
    "import json\n",
    "from sentence_transformers import CrossEncoder"
   ]
  },
  {
   "cell_type": "code",
   "execution_count": 69,
   "id": "6afc2114",
   "metadata": {},
   "outputs": [],
   "source": [
    "def read_rows(path):\n",
    "    rows = []\n",
    "    for line in open(path):\n",
    "        rows.append(json.loads(line))\n",
    "    return rows\n",
    "\n",
    "def write_json_format(path_out, rows):\n",
    "    f_out = open(path_out, 'w')\n",
    "    for row in rows:\n",
    "        f_out.write(json.dumps(row, ensure_ascii=False)+'\\n')"
   ]
  },
  {
   "cell_type": "code",
   "execution_count": 70,
   "id": "e62353ae",
   "metadata": {},
   "outputs": [],
   "source": [
    "path_dataset = 'test-B-big/legal.jl'\n",
    "path_model = 'cross-encoder/ms-marco-MiniLM-L-6-v2'"
   ]
  },
  {
   "cell_type": "code",
   "execution_count": 71,
   "id": "9f7c005c",
   "metadata": {},
   "outputs": [],
   "source": [
    "rows = read_rows(path_dataset)"
   ]
  },
  {
   "cell_type": "code",
   "execution_count": 72,
   "id": "4f25485c",
   "metadata": {},
   "outputs": [],
   "source": [
    "inputs_gpt3 = [(\n",
    "    row['gpt3_answer'] + ' ' +row['question_translated'], \n",
    "    row['distillbert_answer'] + ' ' + row['passage_translated']) for row in rows]\n",
    "inputs_chatgpt = [(\n",
    "    row['chatgpt_answer'] + ' ' +row['question_translated'], \n",
    "    row['distillbert_answer'] + ' ' + row['passage_translated']) for row in rows]"
   ]
  },
  {
   "cell_type": "code",
   "execution_count": 73,
   "id": "0620b60b",
   "metadata": {},
   "outputs": [],
   "source": [
    "model = CrossEncoder(path_model, max_length=512)"
   ]
  },
  {
   "cell_type": "code",
   "execution_count": 74,
   "id": "e4d538d9",
   "metadata": {},
   "outputs": [],
   "source": [
    "scores_gpt3 = model.predict(inputs_gpt3)\n",
    "scores_chatgpt = model.predict(inputs_chatgpt)"
   ]
  },
  {
   "cell_type": "code",
   "execution_count": 75,
   "id": "f135800f",
   "metadata": {},
   "outputs": [],
   "source": [
    "for row, score_gpt3, score_chatgpt in zip(rows, scores_gpt3, scores_chatgpt):\n",
    "    row['score_miniLM_with_gpt3'] = float(score_gpt3)\n",
    "    row['score_miniLM_with_chatgpt'] = float(score_chatgpt)"
   ]
  },
  {
   "cell_type": "code",
   "execution_count": 76,
   "id": "855be823",
   "metadata": {},
   "outputs": [],
   "source": [
    "write_json_format(path_dataset, rows)"
   ]
  }
 ],
 "metadata": {
  "kernelspec": {
   "display_name": "Python 3 (ipykernel)",
   "language": "python",
   "name": "python3"
  },
  "language_info": {
   "codemirror_mode": {
    "name": "ipython",
    "version": 3
   },
   "file_extension": ".py",
   "mimetype": "text/x-python",
   "name": "python",
   "nbconvert_exporter": "python",
   "pygments_lexer": "ipython3",
   "version": "3.10.6"
  }
 },
 "nbformat": 4,
 "nbformat_minor": 5
}
