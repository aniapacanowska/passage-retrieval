{
 "cells": [
  {
   "cell_type": "markdown",
   "id": "e487c0ea",
   "metadata": {},
   "source": [
    "Extract DistilBERT answer from each pair (question, passage)."
   ]
  },
  {
   "cell_type": "code",
   "execution_count": 25,
   "id": "6d88ef79",
   "metadata": {},
   "outputs": [],
   "source": [
    "from transformers import pipeline\n",
    "from datasets import Dataset\n",
    "from transformers.pipelines.pt_utils import KeyPairDataset\n",
    "from tqdm.auto import tqdm\n",
    "import json"
   ]
  },
  {
   "cell_type": "code",
   "execution_count": 26,
   "id": "b1d0771d",
   "metadata": {},
   "outputs": [],
   "source": [
    "def read_rows(path):\n",
    "    rows = []\n",
    "    for line in open(path):\n",
    "        rows.append(json.loads(line))\n",
    "    return rows"
   ]
  },
  {
   "cell_type": "code",
   "execution_count": 27,
   "id": "c94612bb",
   "metadata": {},
   "outputs": [],
   "source": [
    "def write_json_format(path_out, rows):\n",
    "    f_out = open(path_out, 'w')\n",
    "    for row in rows:\n",
    "        f_out.write(json.dumps(row, ensure_ascii=False)+'\\n')"
   ]
  },
  {
   "cell_type": "code",
   "execution_count": 28,
   "id": "8a5eec5c",
   "metadata": {},
   "outputs": [],
   "source": [
    "model_name = 'distilbert-base-cased-distilled-squad'\n",
    "path_dataset = 'test-B-big/allegro.jl'"
   ]
  },
  {
   "cell_type": "code",
   "execution_count": 29,
   "id": "479897df",
   "metadata": {},
   "outputs": [],
   "source": [
    "rows = read_rows(path_dataset)"
   ]
  },
  {
   "cell_type": "code",
   "execution_count": 30,
   "id": "01b08ae4",
   "metadata": {},
   "outputs": [],
   "source": [
    "contexts = [row['passage_translated'] for row in rows]\n",
    "questions = [row['question_translated'] for row in rows]"
   ]
  },
  {
   "cell_type": "code",
   "execution_count": 31,
   "id": "1a89a1fe",
   "metadata": {
    "scrolled": true
   },
   "outputs": [],
   "source": [
    "pipe = pipeline(\"question-answering\", model=model_name, device=0)"
   ]
  },
  {
   "cell_type": "code",
   "execution_count": 32,
   "id": "96fcef81",
   "metadata": {},
   "outputs": [],
   "source": [
    "dataset = Dataset.from_dict({\"question\": questions, \"context\": contexts})"
   ]
  },
  {
   "cell_type": "code",
   "execution_count": 33,
   "id": "b37cefea",
   "metadata": {
    "scrolled": true
   },
   "outputs": [],
   "source": [
    "answers = []\n",
    "for result in pipe(dataset, batch_size=16):\n",
    "    answers.append(result['answer'])"
   ]
  },
  {
   "cell_type": "code",
   "execution_count": 34,
   "id": "6e526800",
   "metadata": {},
   "outputs": [],
   "source": [
    "for row, answer in zip(rows, answers):\n",
    "    row[\"distillbert_answer\"] = answer"
   ]
  },
  {
   "cell_type": "code",
   "execution_count": 35,
   "id": "27c49824",
   "metadata": {},
   "outputs": [
    {
     "data": {
      "text/plain": [
       "[{'question_id': 499,\n",
       "  'question_text': 'Co mogę umieścić w dodatkowych informacjach o dostawie i płatności?',\n",
       "  'passage_id': '193',\n",
       "  'passage_text': 'Postaraj się, aby jakość Twoich ocen na koncie, które bierze udział w promocji nie spadła poniżej 98%. Jeśli jednak tak się stanie lub jeśli przestaniesz spełniać inne warunki promocji, Twoje konto zostanie z niej wykluczone z końcem opłaconego okresu.',\n",
       "  'score_bm25': 0.2670532,\n",
       "  'score_bm25_not_lemmatized': 0.27342082998151523,\n",
       "  'score_bm25_bigrams': 0,\n",
       "  'passage_translated': 'Try to ensure that the quality of your rating in your account that participates in the promotion does not fall below 98%. However, if this happens or if you stop fulfilling other promotional conditions, your account will be excluded from it at the end of the paid period.',\n",
       "  'question_translated': 'What can I put in the additional delivery and payment information?',\n",
       "  'distillbert_answer': 'promotional conditions'},\n",
       " {'question_id': 499,\n",
       "  'question_text': 'Co mogę umieścić w dodatkowych informacjach o dostawie i płatności?',\n",
       "  'passage_id': '798',\n",
       "  'passage_text': 'Propozycja pożyczki będzie dostępna, jeśli spełniasz poniższe kryteria:\\n* masz aktywne konto firmowe na jednoosobową działalność gospodarczą - założone nie później, niż 1 stycznia 2017,\\n* Twoja firma jest zarejestrowana w Polsce,\\n* roczne obroty firmy nie przekraczają 10 milionów złotych,\\n* masz aktualną umowę z Allegro,\\n* nie masz na koncie blokady sprzedaży.',\n",
       "  'score_bm25': 0.2670532,\n",
       "  'score_bm25_not_lemmatized': 0.2522968673202168,\n",
       "  'score_bm25_bigrams': 0,\n",
       "  'passage_translated': \"The loan offer will be available if you meet the following criteria: * you have an active business account for single-person business - founded no later than 1 January 2017, * Your company is registered in Poland, * the company's annual turnover does not exceed PLN 10 million, * you have a current contract with Allegro, * you do not have a sales blockade in your account.\",\n",
       "  'question_translated': 'What can I put in the additional delivery and payment information?',\n",
       "  'distillbert_answer': 'loan offer'},\n",
       " {'question_id': 499,\n",
       "  'question_text': 'Co mogę umieścić w dodatkowych informacjach o dostawie i płatności?',\n",
       "  'passage_id': '192',\n",
       "  'passage_text': 'Prowizję naliczamy za każdy przedmiot składający się na zestaw. Jeśli zestaw sprzedajesz z rabatem, to prowizja naliczana jest z uwzględnieniem cen każdego przedmiotu po obniżce.\\n> Przykład: Jeśli przedmiot, który standardowo sprzedajesz za 100 zł po uwzględnieniu rabatu w zestawie kosztuje 90 zł, to za ten przedmiot zapłacisz prowizję od kwoty 90 zł.',\n",
       "  'score_bm25': 0.2633694,\n",
       "  'score_bm25_not_lemmatized': 0.24392136026062206,\n",
       "  'score_bm25_bigrams': 0,\n",
       "  'passage_translated': 'The commission is charged for each item consisting of a set. If the set you sell with a discount, the commission is charged taking into account the prices of each item after a reduction. > Example: If the item that you normally sell for 100 PLN after taking into account the discount included in the set costs 90 PLN, then for this item you will pay a commission from the amount of 90 PLN.',\n",
       "  'question_translated': 'What can I put in the additional delivery and payment information?',\n",
       "  'distillbert_answer': 'prices'},\n",
       " {'question_id': 499,\n",
       "  'question_text': 'Co mogę umieścić w dodatkowych informacjach o dostawie i płatności?',\n",
       "  'passage_id': '194',\n",
       "  'passage_text': 'Cena minimalna, która występuje w niektórych licytacjach, to najniższa kwota, za jaką Sprzedający zgadza się sprzedać wystawiony przedmiot. Jeśli wśród ofert kupna nie pojawi się wyższa od ceny minimalnej, przedmiot nie zostanie sprzedany.\\nWysokość ceny minimalnej jest ukryta do momentu jej przekroczenia przez Kupujących.',\n",
       "  'score_bm25': 0.2633694,\n",
       "  'score_bm25_not_lemmatized': 0.2612680046365281,\n",
       "  'score_bm25_bigrams': 0,\n",
       "  'passage_translated': 'The minimum price that occurs in some auctions is the lowest amount for which the Seller agrees to sell the item issued. If the purchase offers do not appear above the minimum price, the item will not be sold. The minimum price is hidden until it is exceeded by the Buyers.',\n",
       "  'question_translated': 'What can I put in the additional delivery and payment information?',\n",
       "  'distillbert_answer': 'The minimum price is hidden until it is exceeded by the Buyers'},\n",
       " {'question_id': 499,\n",
       "  'question_text': 'Co mogę umieścić w dodatkowych informacjach o dostawie i płatności?',\n",
       "  'passage_id': '511',\n",
       "  'passage_text': 'Jeśli wypłaciliśmy Ci rekompensatę w ramach Programu Ochrony Kupujących a Ty otrzymasz zwrot pieniędzy od Sprzedającego, masz obowiązek zwrócić nam rekompensatę.\\nZgodnie z punktem 6 Część IV Załącznika nr 9 do Regulaminu Allegro, na zwrot rekompensaty masz 7 dni od naprawienia szkody przez Sprzedającego.',\n",
       "  'score_bm25': 0.2633694,\n",
       "  'score_bm25_not_lemmatized': 0.2612680046365281,\n",
       "  'score_bm25_bigrams': 0,\n",
       "  'passage_translated': \"If we have paid you compensation under the Buyer Protection Programme and you receive a refund from the Seller, you are obliged to pay us compensation. According to Section 6 of Part IV of Annex No 9 to the Allegro Regulations, you have 7 days from the Seller's compensation.\",\n",
       "  'question_translated': 'What can I put in the additional delivery and payment information?',\n",
       "  'distillbert_answer': 'a refund'},\n",
       " {'question_id': 499,\n",
       "  'question_text': 'Co mogę umieścić w dodatkowych informacjach o dostawie i płatności?',\n",
       "  'passage_id': '611',\n",
       "  'passage_text': 'Jeśli chcesz otrzymywać fakturę na dane swojej firmy, załóż konta Firma lub zmień status konta zwykłego na konto firmowe. Jeśli Twoja firma jest zarejestrowana w którymś z krajów Wspólnoty Europejskiej (poza Polską), aby otrzymać fakturę UE, prześlij nam:\\n* skany dokumentów, potrzebne do rejestracji konta Firma,\\n* potwierdzenie nadania numeru NIP UE.',\n",
       "  'score_bm25': 0.2633694,\n",
       "  'score_bm25_not_lemmatized': 0.24803843005229143,\n",
       "  'score_bm25_bigrams': 0,\n",
       "  'passage_translated': \"If you want to receive an invoice for your company's data, create your company's accounts or change your ordinary account status to your company account. If your company is registered in any of the European Community countries (except Poland) to receive an EU invoice, please send us: * scans of documents needed to register your company's account, * confirmation of granting an EU NIP number.\",\n",
       "  'question_translated': 'What can I put in the additional delivery and payment information?',\n",
       "  'distillbert_answer': 'an invoice'},\n",
       " {'question_id': 499,\n",
       "  'question_text': 'Co mogę umieścić w dodatkowych informacjach o dostawie i płatności?',\n",
       "  'passage_id': '864',\n",
       "  'passage_text': 'Tak. Jeśli saldo Twojego rachunku jest dodatnie, nadpłaconą kwotę przelejemy na Twój rachunek bankowy lub zwrócimy przekazem pocztowym. Saldo dodatnie powstaje na rachunku na przykład wtedy, gdy wpłacisz kwotę większą, niż wartość należności lub - po uregulowaniu rachunków - otrzymasz zwrot prowizji (rabat transakcyjny) w wyniku niezrealizowanej sprzedaży.',\n",
       "  'score_bm25': 0.2633694,\n",
       "  'score_bm25_not_lemmatized': 0.25670408043933274,\n",
       "  'score_bm25_bigrams': 0,\n",
       "  'passage_translated': 'Yes. If the balance of your account is positive, the overpaid amount will be transferred to your bank account or returned by post. The positive balance will arise in the account, for example, if you deposit more than the value of the claim or, after the account has been settled, you will receive a refund of commission (trade discount) as a result of an unrealized sale.',\n",
       "  'question_translated': 'What can I put in the additional delivery and payment information?',\n",
       "  'distillbert_answer': 'a refund of commission'},\n",
       " {'question_id': 499,\n",
       "  'question_text': 'Co mogę umieścić w dodatkowych informacjach o dostawie i płatności?',\n",
       "  'passage_id': '155',\n",
       "  'passage_text': 'Dane dotyczące zrealizowanych zamówień zbieramy z ostatnich pełnych 30 dni. Zamówienie uznajemy za zrealizowane, jeśli spełnisz jeden z poniższych warunków:\\n* otrzymasz ocenę Polecam;\\n* status przesyłki w systemie przewoźnika automatycznie zmieni się na \"wysłana\".\\nDane zbieramy do końca dnia poprzedzającego moment przeliczenia danych (podobnie jak pozostałe warunki programu Super Sprzedawca).',\n",
       "  'score_bm25': 0.24959737,\n",
       "  'score_bm25_not_lemmatized': 0.250149526550898,\n",
       "  'score_bm25_bigrams': 0,\n",
       "  'passage_translated': 'We collect the details of the completed orders from the last 30 days. We consider the order to be completed if you meet one of the following conditions: * you will receive the evaluation I recommend; * the status of the shipment in the carrier system will automatically change to \"sent.\" We collect the data by the end of the day preceding the moment of conversion (like the other conditions of the Super Seller program).',\n",
       "  'question_translated': 'What can I put in the additional delivery and payment information?',\n",
       "  'distillbert_answer': 'evaluation'},\n",
       " {'question_id': 499,\n",
       "  'question_text': 'Co mogę umieścić w dodatkowych informacjach o dostawie i płatności?',\n",
       "  'passage_id': '151',\n",
       "  'passage_text': 'RODO nie ma zastosowania do działalności osobistej lub domowej. Oznacza to, że osoba fizyczna prowadząca działalność gospodarczą musi stosować RODO do danych osobowych swoich klientów, czy pracowników, ale nie stosuje RODO do danych przetwarzanych w celach czysto prywatnych, np. do danych adresatów wysyłanych corocznie kartek świątecznych.',\n",
       "  'score_bm25': 0.24323767,\n",
       "  'score_bm25_not_lemmatized': 0.25670408043933274,\n",
       "  'score_bm25_bigrams': 0,\n",
       "  'passage_translated': 'GDPR does not apply to personal or domestic activities. This means that a natural person conducting business activities must apply GDPR to the personal data of his clients or employees, but does not apply GDPR to data processed for purely private purposes, e.g. to the data of recipients sent annually Christmas cards.',\n",
       "  'question_translated': 'What can I put in the additional delivery and payment information?',\n",
       "  'distillbert_answer': 'Christmas cards'},\n",
       " {'question_id': 499,\n",
       "  'question_text': 'Co mogę umieścić w dodatkowych informacjach o dostawie i płatności?',\n",
       "  'passage_id': '170',\n",
       "  'passage_text': 'Większość serwisów internetowych udostępnia możliwość logowania przez bezpieczne połączenie SSL. Strony, które spełniają taki warunek, otrzymują certyfikat bezpieczeństwa. Zawsze upewnij się, że dane, które wprowadzasz podczas logowania, będą bezpieczne - sprawdzaj, czy połączenie jest szyfrowane.\\nW każdej przeglądarce, obok paska adresu, znajdziesz prostokąt innego koloru oraz (najczęściej) kłódkę. Aby sprawdzić, czy strona jest bezpieczna, kliknij na prostokąt lub kłódkę.',\n",
       "  'score_bm25': 0.24323767,\n",
       "  'score_bm25_not_lemmatized': 0.23235130010676217,\n",
       "  'score_bm25_bigrams': 0,\n",
       "  'passage_translated': 'Most websites provide the possibility to log in via a secure SSL connection. Sites that meet this condition receive a security certificate. Always make sure that the data you enter when you log in will be safe - check whether the connection is encrypted. In each browser, next to the address bar, you will find a rectangle of a different color and (usually) lock. To check whether the page is safe, click on a rectangle or a padlock.',\n",
       "  'question_translated': 'What can I put in the additional delivery and payment information?',\n",
       "  'distillbert_answer': 'security certificate'}]"
      ]
     },
     "execution_count": 35,
     "metadata": {},
     "output_type": "execute_result"
    }
   ],
   "source": [
    "rows[-10:]"
   ]
  },
  {
   "cell_type": "code",
   "execution_count": 36,
   "id": "683fc5da",
   "metadata": {},
   "outputs": [],
   "source": [
    "write_json_format(path_dataset, rows)"
   ]
  }
 ],
 "metadata": {
  "kernelspec": {
   "display_name": "Python 3 (ipykernel)",
   "language": "python",
   "name": "python3"
  },
  "language_info": {
   "codemirror_mode": {
    "name": "ipython",
    "version": 3
   },
   "file_extension": ".py",
   "mimetype": "text/x-python",
   "name": "python",
   "nbconvert_exporter": "python",
   "pygments_lexer": "ipython3",
   "version": "3.10.6"
  }
 },
 "nbformat": 4,
 "nbformat_minor": 5
}
