{
 "cells": [
  {
   "cell_type": "markdown",
   "id": "fc1f0eb9",
   "metadata": {},
   "source": [
    "Add miniLM score for (generated_answer, extracted_answer)."
   ]
  },
  {
   "cell_type": "code",
   "execution_count": 28,
   "id": "2548d682",
   "metadata": {},
   "outputs": [],
   "source": [
    "import json\n",
    "from sentence_transformers import CrossEncoder"
   ]
  },
  {
   "cell_type": "code",
   "execution_count": 29,
   "id": "005994ff",
   "metadata": {},
   "outputs": [],
   "source": [
    "def read_rows(path):\n",
    "    rows = []\n",
    "    for line in open(path):\n",
    "        rows.append(json.loads(line))\n",
    "    return rows\n",
    "\n",
    "def write_json_format(path_out, rows):\n",
    "    f_out = open(path_out, 'w')\n",
    "    for row in rows:\n",
    "        f_out.write(json.dumps(row, ensure_ascii=False)+'\\n')"
   ]
  },
  {
   "cell_type": "code",
   "execution_count": 30,
   "id": "bc91ec8a",
   "metadata": {},
   "outputs": [],
   "source": [
    "path_dataset = 'test-B-big/dev.jl'\n",
    "path_model = 'cross-encoder/ms-marco-MiniLM-L-6-v2'"
   ]
  },
  {
   "cell_type": "code",
   "execution_count": 31,
   "id": "98cac075",
   "metadata": {},
   "outputs": [],
   "source": [
    "rows = read_rows(path_dataset)"
   ]
  },
  {
   "cell_type": "code",
   "execution_count": 32,
   "id": "f411b0fe",
   "metadata": {},
   "outputs": [],
   "source": [
    "inputs_gpt3 = [(row['gpt3_answer'], row['distillbert_answer']) for row in rows]\n",
    "inputs_chatgpt = [(row['chatgpt_answer'], row['distillbert_answer']) for row in rows]"
   ]
  },
  {
   "cell_type": "code",
   "execution_count": 33,
   "id": "2557f11f",
   "metadata": {},
   "outputs": [],
   "source": [
    "model = CrossEncoder(path_model, max_length=512)"
   ]
  },
  {
   "cell_type": "code",
   "execution_count": 34,
   "id": "61634f3a",
   "metadata": {},
   "outputs": [],
   "source": [
    "scores_gpt3 = model.predict(inputs_gpt3)\n",
    "scores_chatgpt = model.predict(inputs_chatgpt)"
   ]
  },
  {
   "cell_type": "code",
   "execution_count": 35,
   "id": "10f7528f",
   "metadata": {},
   "outputs": [],
   "source": [
    "for row, score_gpt3, score_chatgpt in zip(rows, scores_gpt3, scores_chatgpt):\n",
    "    row['score_miniLM_gpt3_answer'] = float(score_gpt3)\n",
    "    row['score_miniLM_chatgpt_answer'] = float(score_chatgpt)"
   ]
  },
  {
   "cell_type": "code",
   "execution_count": 36,
   "id": "c382a647",
   "metadata": {},
   "outputs": [],
   "source": [
    "write_json_format(path_dataset, rows)"
   ]
  }
 ],
 "metadata": {
  "kernelspec": {
   "display_name": "Python 3 (ipykernel)",
   "language": "python",
   "name": "python3"
  },
  "language_info": {
   "codemirror_mode": {
    "name": "ipython",
    "version": 3
   },
   "file_extension": ".py",
   "mimetype": "text/x-python",
   "name": "python",
   "nbconvert_exporter": "python",
   "pygments_lexer": "ipython3",
   "version": "3.10.6"
  }
 },
 "nbformat": 4,
 "nbformat_minor": 5
}
